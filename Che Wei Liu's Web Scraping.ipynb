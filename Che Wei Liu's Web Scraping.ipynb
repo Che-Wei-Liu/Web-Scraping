{
 "cells": [
  {
   "cell_type": "markdown",
   "id": "69498f99",
   "metadata": {},
   "source": [
    "### Calling libraries"
   ]
  },
  {
   "cell_type": "code",
   "execution_count": 2,
   "id": "9da4946f",
   "metadata": {},
   "outputs": [],
   "source": [
    "import requests\n",
    "from bs4 import BeautifulSoup\n",
    "import pandas as pd\n",
    "import numpy as np"
   ]
  },
  {
   "cell_type": "markdown",
   "id": "04cbcae4",
   "metadata": {},
   "source": [
    "### There are 2 pages of online-data"
   ]
  },
  {
   "cell_type": "code",
   "execution_count": 3,
   "id": "a79795f6",
   "metadata": {},
   "outputs": [],
   "source": [
    "w_url = 'https://www.imdb.com/list/ls098063263/?sort=list_order,asc&st_dt=&mode=detail&page=1'\n",
    "w_url2 = 'https://www.imdb.com/list/ls098063263/?sort=list_order,asc&st_dt=&mode=detail&page=2'"
   ]
  },
  {
   "cell_type": "code",
   "execution_count": 4,
   "id": "ab74e6fc",
   "metadata": {},
   "outputs": [],
   "source": [
    "w_r = requests.get(w_url)\n",
    "w_r2 = requests.get(w_url2)"
   ]
  },
  {
   "cell_type": "code",
   "execution_count": 5,
   "id": "c67feda0",
   "metadata": {},
   "outputs": [
    {
     "data": {
      "text/plain": [
       "200"
      ]
     },
     "execution_count": 5,
     "metadata": {},
     "output_type": "execute_result"
    }
   ],
   "source": [
    "w_r.status_code"
   ]
  },
  {
   "cell_type": "code",
   "execution_count": 6,
   "id": "e8402c8e",
   "metadata": {},
   "outputs": [],
   "source": [
    "pd.set_option('display.max_rows', 10)"
   ]
  },
  {
   "cell_type": "markdown",
   "id": "f939a9d5",
   "metadata": {},
   "source": [
    "### Get the html code from the website using BeautifulSoup"
   ]
  },
  {
   "cell_type": "code",
   "execution_count": 7,
   "id": "20978b07",
   "metadata": {},
   "outputs": [],
   "source": [
    "w_soup = BeautifulSoup(w_r.text)\n",
    "w_soup2 = BeautifulSoup(w_r2.text)"
   ]
  },
  {
   "cell_type": "markdown",
   "id": "0f1915ed",
   "metadata": {},
   "source": [
    "### All the tables are in \"lister-item-content\" class"
   ]
  },
  {
   "cell_type": "code",
   "execution_count": 8,
   "id": "4b1d941a",
   "metadata": {},
   "outputs": [],
   "source": [
    "gross_divs = w_soup.find_all('div', {\"class\":\"lister-item-content\"})\n",
    "gross_divs2 = w_soup2.find_all('div', {\"class\":\"lister-item-content\"})"
   ]
  },
  {
   "cell_type": "code",
   "execution_count": 9,
   "id": "f03ee238",
   "metadata": {},
   "outputs": [],
   "source": [
    "rank = [int(h.find('span', {\"class\": \"lister-item-index unbold text-primary\"}).text.strip('.')) for h in gross_divs]\n",
    "rank2 = [int(h.find('span', {\"class\": \"lister-item-index unbold text-primary\"}).text.strip('.')) for h in gross_divs2]"
   ]
  },
  {
   "cell_type": "code",
   "execution_count": 10,
   "id": "21ebf81f",
   "metadata": {},
   "outputs": [],
   "source": [
    "certificate = [(h.find('span', {\"class\": \"certificate\"})) for h in gross_divs]\n",
    "certificate2 = [(h.find('span', {\"class\": \"certificate\"})) for h in gross_divs]"
   ]
  },
  {
   "cell_type": "code",
   "execution_count": 11,
   "id": "129453ba",
   "metadata": {},
   "outputs": [],
   "source": [
    "title = [h.find('a').get_text() for h in gross_divs]\n",
    "title2 = [h.find('a').get_text() for h in gross_divs2]"
   ]
  },
  {
   "cell_type": "code",
   "execution_count": 12,
   "id": "07b9f8da",
   "metadata": {},
   "outputs": [],
   "source": [
    "year = [h.find('span', {\"class\": \"lister-item-year text-muted unbold\"}).get_text() for h in gross_divs]\n",
    "year2 = [h.find('span', {\"class\": \"lister-item-year text-muted unbold\"}).get_text() for h in gross_divs2]"
   ]
  },
  {
   "cell_type": "code",
   "execution_count": 13,
   "id": "036c4d67",
   "metadata": {},
   "outputs": [],
   "source": [
    "rating = [(h.find('span', {\"class\": \"ipl-rating-star__rating\"}).get_text()) for h in gross_divs]\n",
    "rating2 = [(h.find('span', {\"class\": \"ipl-rating-star__rating\"}).get_text()) for h in gross_divs2]"
   ]
  },
  {
   "cell_type": "code",
   "execution_count": 14,
   "id": "a454958f",
   "metadata": {},
   "outputs": [],
   "source": [
    "runtime = [int(h.find('span', {\"class\": \"runtime\"}).text.strip(' min')) for h in gross_divs]\n",
    "runtime2 = [int(h.find('span', {\"class\": \"runtime\"}).text.strip(' min')) for h in gross_divs2]"
   ]
  },
  {
   "cell_type": "code",
   "execution_count": 15,
   "id": "4ed6134d",
   "metadata": {},
   "outputs": [],
   "source": [
    "gross = [(h.find_all('span', {\"name\": \"nv\"}))[-1].get_text() for h in gross_divs]\n",
    "gross2 = [(h.find_all('span', {\"name\": \"nv\"}))[-1].get_text() for h in gross_divs2]"
   ]
  },
  {
   "cell_type": "markdown",
   "id": "a6a6d7bc",
   "metadata": {},
   "source": [
    "### Putting two dataset together"
   ]
  },
  {
   "cell_type": "code",
   "execution_count": 16,
   "id": "18b995a6",
   "metadata": {},
   "outputs": [],
   "source": [
    "df = pd.DataFrame({'Ranking':rank, 'Title':title, 'Year':year, 'Runtime':runtime, 'IMDb':rating, 'Box_Office(M)':gross, 'Rating':certificate})\n",
    "df2 = pd.DataFrame({'Ranking':rank2, 'Title':title2, 'Year':year2, 'Runtime':runtime2, 'IMDb':rating2, 'Box_Office(M)':gross2, 'Rating':certificate2})"
   ]
  },
  {
   "cell_type": "code",
   "execution_count": 17,
   "id": "7010cd7c",
   "metadata": {},
   "outputs": [
    {
     "data": {
      "text/html": [
       "<div>\n",
       "<style scoped>\n",
       "    .dataframe tbody tr th:only-of-type {\n",
       "        vertical-align: middle;\n",
       "    }\n",
       "\n",
       "    .dataframe tbody tr th {\n",
       "        vertical-align: top;\n",
       "    }\n",
       "\n",
       "    .dataframe thead th {\n",
       "        text-align: right;\n",
       "    }\n",
       "</style>\n",
       "<table border=\"1\" class=\"dataframe\">\n",
       "  <thead>\n",
       "    <tr style=\"text-align: right;\">\n",
       "      <th></th>\n",
       "      <th>Ranking</th>\n",
       "      <th>Title</th>\n",
       "      <th>Year</th>\n",
       "      <th>Runtime</th>\n",
       "      <th>IMDb</th>\n",
       "      <th>Box_Office(M)</th>\n",
       "      <th>Rating</th>\n",
       "    </tr>\n",
       "  </thead>\n",
       "  <tbody>\n",
       "    <tr>\n",
       "      <th>0</th>\n",
       "      <td>1</td>\n",
       "      <td>Avatar</td>\n",
       "      <td>(2009)</td>\n",
       "      <td>162</td>\n",
       "      <td>7.8</td>\n",
       "      <td>$760.51M</td>\n",
       "      <td>[PG-13]</td>\n",
       "    </tr>\n",
       "    <tr>\n",
       "      <th>1</th>\n",
       "      <td>2</td>\n",
       "      <td>Avengers: Endgame</td>\n",
       "      <td>(2019)</td>\n",
       "      <td>181</td>\n",
       "      <td>8.4</td>\n",
       "      <td>$858.37M</td>\n",
       "      <td>[PG-13]</td>\n",
       "    </tr>\n",
       "    <tr>\n",
       "      <th>2</th>\n",
       "      <td>3</td>\n",
       "      <td>Titanic</td>\n",
       "      <td>(1997)</td>\n",
       "      <td>194</td>\n",
       "      <td>7.9</td>\n",
       "      <td>$659.33M</td>\n",
       "      <td>[PG-13]</td>\n",
       "    </tr>\n",
       "    <tr>\n",
       "      <th>3</th>\n",
       "      <td>4</td>\n",
       "      <td>Star Wars: Episode VII - The Force Awakens</td>\n",
       "      <td>(2015)</td>\n",
       "      <td>138</td>\n",
       "      <td>7.8</td>\n",
       "      <td>$936.66M</td>\n",
       "      <td>[PG-13]</td>\n",
       "    </tr>\n",
       "    <tr>\n",
       "      <th>4</th>\n",
       "      <td>5</td>\n",
       "      <td>Avengers: Infinity War</td>\n",
       "      <td>(2018)</td>\n",
       "      <td>149</td>\n",
       "      <td>8.4</td>\n",
       "      <td>$678.82M</td>\n",
       "      <td>[PG-13]</td>\n",
       "    </tr>\n",
       "    <tr>\n",
       "      <th>...</th>\n",
       "      <td>...</td>\n",
       "      <td>...</td>\n",
       "      <td>...</td>\n",
       "      <td>...</td>\n",
       "      <td>...</td>\n",
       "      <td>...</td>\n",
       "      <td>...</td>\n",
       "    </tr>\n",
       "    <tr>\n",
       "      <th>195</th>\n",
       "      <td>196</td>\n",
       "      <td>Ted</td>\n",
       "      <td>(2012)</td>\n",
       "      <td>106</td>\n",
       "      <td>6.9</td>\n",
       "      <td>$218.82M</td>\n",
       "      <td>[PG-13]</td>\n",
       "    </tr>\n",
       "    <tr>\n",
       "      <th>196</th>\n",
       "      <td>197</td>\n",
       "      <td>American Sniper</td>\n",
       "      <td>(2014)</td>\n",
       "      <td>133</td>\n",
       "      <td>7.3</td>\n",
       "      <td>$350.13M</td>\n",
       "      <td>[PG]</td>\n",
       "    </tr>\n",
       "    <tr>\n",
       "      <th>197</th>\n",
       "      <td>198</td>\n",
       "      <td>Mission: Impossible II</td>\n",
       "      <td>(2000)</td>\n",
       "      <td>123</td>\n",
       "      <td>6.1</td>\n",
       "      <td>$215.41M</td>\n",
       "      <td>[PG-13]</td>\n",
       "    </tr>\n",
       "    <tr>\n",
       "      <th>198</th>\n",
       "      <td>199</td>\n",
       "      <td>Detective Chinatown 2</td>\n",
       "      <td>(2018)</td>\n",
       "      <td>121</td>\n",
       "      <td>6.1</td>\n",
       "      <td>$1.98M</td>\n",
       "      <td>[PG]</td>\n",
       "    </tr>\n",
       "    <tr>\n",
       "      <th>199</th>\n",
       "      <td>200</td>\n",
       "      <td>X-Men: Apocalypse</td>\n",
       "      <td>(2016)</td>\n",
       "      <td>144</td>\n",
       "      <td>6.9</td>\n",
       "      <td>$155.44M</td>\n",
       "      <td>[PG-13]</td>\n",
       "    </tr>\n",
       "  </tbody>\n",
       "</table>\n",
       "<p>200 rows × 7 columns</p>\n",
       "</div>"
      ],
      "text/plain": [
       "     Ranking                                       Title    Year  Runtime  \\\n",
       "0          1                                      Avatar  (2009)      162   \n",
       "1          2                           Avengers: Endgame  (2019)      181   \n",
       "2          3                                     Titanic  (1997)      194   \n",
       "3          4  Star Wars: Episode VII - The Force Awakens  (2015)      138   \n",
       "4          5                      Avengers: Infinity War  (2018)      149   \n",
       "..       ...                                         ...     ...      ...   \n",
       "195      196                                         Ted  (2012)      106   \n",
       "196      197                             American Sniper  (2014)      133   \n",
       "197      198                      Mission: Impossible II  (2000)      123   \n",
       "198      199                       Detective Chinatown 2  (2018)      121   \n",
       "199      200                           X-Men: Apocalypse  (2016)      144   \n",
       "\n",
       "    IMDb Box_Office(M)   Rating  \n",
       "0    7.8      $760.51M  [PG-13]  \n",
       "1    8.4      $858.37M  [PG-13]  \n",
       "2    7.9      $659.33M  [PG-13]  \n",
       "3    7.8      $936.66M  [PG-13]  \n",
       "4    8.4      $678.82M  [PG-13]  \n",
       "..   ...           ...      ...  \n",
       "195  6.9      $218.82M  [PG-13]  \n",
       "196  7.3      $350.13M     [PG]  \n",
       "197  6.1      $215.41M  [PG-13]  \n",
       "198  6.1        $1.98M     [PG]  \n",
       "199  6.9      $155.44M  [PG-13]  \n",
       "\n",
       "[200 rows x 7 columns]"
      ]
     },
     "execution_count": 17,
     "metadata": {},
     "output_type": "execute_result"
    }
   ],
   "source": [
    "df = pd.concat([df, df2], ignore_index=True)\n",
    "df"
   ]
  },
  {
   "cell_type": "markdown",
   "id": "d17a0d76",
   "metadata": {},
   "source": [
    "### Clean the Year column, it has some unnecessary symbols"
   ]
  },
  {
   "cell_type": "code",
   "execution_count": 18,
   "id": "d3833895",
   "metadata": {},
   "outputs": [],
   "source": [
    "df['Year'] = df['Year'].str.extract(r'(\\d\\d\\d\\d)').astype(int)"
   ]
  },
  {
   "cell_type": "markdown",
   "id": "1c8a8e3a",
   "metadata": {},
   "source": [
    "### Extract the number from \"Box Office\" column. (Get rid of dollor sign and M)"
   ]
  },
  {
   "cell_type": "code",
   "execution_count": 19,
   "id": "3ac5551b",
   "metadata": {},
   "outputs": [],
   "source": [
    "df['Box_Office(M)'] = df['Box_Office(M)'].str.partition('$')[2].str.partition('M')[0]"
   ]
  },
  {
   "cell_type": "code",
   "execution_count": 20,
   "id": "8a978de5",
   "metadata": {},
   "outputs": [],
   "source": [
    "df['IMDb'] = df['IMDb'].astype(float)"
   ]
  },
  {
   "cell_type": "code",
   "execution_count": 21,
   "id": "429e04f6",
   "metadata": {},
   "outputs": [
    {
     "data": {
      "text/plain": [
       "Ranking            int64\n",
       "Title             object\n",
       "Year               int32\n",
       "Runtime            int64\n",
       "IMDb             float64\n",
       "Box_Office(M)     object\n",
       "Rating            object\n",
       "dtype: object"
      ]
     },
     "execution_count": 21,
     "metadata": {},
     "output_type": "execute_result"
    }
   ],
   "source": [
    "df.dtypes"
   ]
  },
  {
   "cell_type": "markdown",
   "id": "e35aa596",
   "metadata": {},
   "source": [
    "### The Movie Box Office dataset is all clean and ready to do some cool analysis! :)"
   ]
  },
  {
   "cell_type": "code",
   "execution_count": 22,
   "id": "9528791b",
   "metadata": {},
   "outputs": [
    {
     "data": {
      "text/html": [
       "<div>\n",
       "<style scoped>\n",
       "    .dataframe tbody tr th:only-of-type {\n",
       "        vertical-align: middle;\n",
       "    }\n",
       "\n",
       "    .dataframe tbody tr th {\n",
       "        vertical-align: top;\n",
       "    }\n",
       "\n",
       "    .dataframe thead th {\n",
       "        text-align: right;\n",
       "    }\n",
       "</style>\n",
       "<table border=\"1\" class=\"dataframe\">\n",
       "  <thead>\n",
       "    <tr style=\"text-align: right;\">\n",
       "      <th></th>\n",
       "      <th>Ranking</th>\n",
       "      <th>Title</th>\n",
       "      <th>Year</th>\n",
       "      <th>Runtime</th>\n",
       "      <th>IMDb</th>\n",
       "      <th>Box_Office(M)</th>\n",
       "      <th>Rating</th>\n",
       "    </tr>\n",
       "  </thead>\n",
       "  <tbody>\n",
       "    <tr>\n",
       "      <th>0</th>\n",
       "      <td>1</td>\n",
       "      <td>Avatar</td>\n",
       "      <td>2009</td>\n",
       "      <td>162</td>\n",
       "      <td>7.8</td>\n",
       "      <td>760.51</td>\n",
       "      <td>[PG-13]</td>\n",
       "    </tr>\n",
       "    <tr>\n",
       "      <th>1</th>\n",
       "      <td>2</td>\n",
       "      <td>Avengers: Endgame</td>\n",
       "      <td>2019</td>\n",
       "      <td>181</td>\n",
       "      <td>8.4</td>\n",
       "      <td>858.37</td>\n",
       "      <td>[PG-13]</td>\n",
       "    </tr>\n",
       "    <tr>\n",
       "      <th>2</th>\n",
       "      <td>3</td>\n",
       "      <td>Titanic</td>\n",
       "      <td>1997</td>\n",
       "      <td>194</td>\n",
       "      <td>7.9</td>\n",
       "      <td>659.33</td>\n",
       "      <td>[PG-13]</td>\n",
       "    </tr>\n",
       "    <tr>\n",
       "      <th>3</th>\n",
       "      <td>4</td>\n",
       "      <td>Star Wars: Episode VII - The Force Awakens</td>\n",
       "      <td>2015</td>\n",
       "      <td>138</td>\n",
       "      <td>7.8</td>\n",
       "      <td>936.66</td>\n",
       "      <td>[PG-13]</td>\n",
       "    </tr>\n",
       "    <tr>\n",
       "      <th>4</th>\n",
       "      <td>5</td>\n",
       "      <td>Avengers: Infinity War</td>\n",
       "      <td>2018</td>\n",
       "      <td>149</td>\n",
       "      <td>8.4</td>\n",
       "      <td>678.82</td>\n",
       "      <td>[PG-13]</td>\n",
       "    </tr>\n",
       "    <tr>\n",
       "      <th>...</th>\n",
       "      <td>...</td>\n",
       "      <td>...</td>\n",
       "      <td>...</td>\n",
       "      <td>...</td>\n",
       "      <td>...</td>\n",
       "      <td>...</td>\n",
       "      <td>...</td>\n",
       "    </tr>\n",
       "    <tr>\n",
       "      <th>195</th>\n",
       "      <td>196</td>\n",
       "      <td>Ted</td>\n",
       "      <td>2012</td>\n",
       "      <td>106</td>\n",
       "      <td>6.9</td>\n",
       "      <td>218.82</td>\n",
       "      <td>[PG-13]</td>\n",
       "    </tr>\n",
       "    <tr>\n",
       "      <th>196</th>\n",
       "      <td>197</td>\n",
       "      <td>American Sniper</td>\n",
       "      <td>2014</td>\n",
       "      <td>133</td>\n",
       "      <td>7.3</td>\n",
       "      <td>350.13</td>\n",
       "      <td>[PG]</td>\n",
       "    </tr>\n",
       "    <tr>\n",
       "      <th>197</th>\n",
       "      <td>198</td>\n",
       "      <td>Mission: Impossible II</td>\n",
       "      <td>2000</td>\n",
       "      <td>123</td>\n",
       "      <td>6.1</td>\n",
       "      <td>215.41</td>\n",
       "      <td>[PG-13]</td>\n",
       "    </tr>\n",
       "    <tr>\n",
       "      <th>198</th>\n",
       "      <td>199</td>\n",
       "      <td>Detective Chinatown 2</td>\n",
       "      <td>2018</td>\n",
       "      <td>121</td>\n",
       "      <td>6.1</td>\n",
       "      <td>1.98</td>\n",
       "      <td>[PG]</td>\n",
       "    </tr>\n",
       "    <tr>\n",
       "      <th>199</th>\n",
       "      <td>200</td>\n",
       "      <td>X-Men: Apocalypse</td>\n",
       "      <td>2016</td>\n",
       "      <td>144</td>\n",
       "      <td>6.9</td>\n",
       "      <td>155.44</td>\n",
       "      <td>[PG-13]</td>\n",
       "    </tr>\n",
       "  </tbody>\n",
       "</table>\n",
       "<p>200 rows × 7 columns</p>\n",
       "</div>"
      ],
      "text/plain": [
       "     Ranking                                       Title  Year  Runtime  IMDb  \\\n",
       "0          1                                      Avatar  2009      162   7.8   \n",
       "1          2                           Avengers: Endgame  2019      181   8.4   \n",
       "2          3                                     Titanic  1997      194   7.9   \n",
       "3          4  Star Wars: Episode VII - The Force Awakens  2015      138   7.8   \n",
       "4          5                      Avengers: Infinity War  2018      149   8.4   \n",
       "..       ...                                         ...   ...      ...   ...   \n",
       "195      196                                         Ted  2012      106   6.9   \n",
       "196      197                             American Sniper  2014      133   7.3   \n",
       "197      198                      Mission: Impossible II  2000      123   6.1   \n",
       "198      199                       Detective Chinatown 2  2018      121   6.1   \n",
       "199      200                           X-Men: Apocalypse  2016      144   6.9   \n",
       "\n",
       "    Box_Office(M)   Rating  \n",
       "0          760.51  [PG-13]  \n",
       "1          858.37  [PG-13]  \n",
       "2          659.33  [PG-13]  \n",
       "3          936.66  [PG-13]  \n",
       "4          678.82  [PG-13]  \n",
       "..            ...      ...  \n",
       "195        218.82  [PG-13]  \n",
       "196        350.13     [PG]  \n",
       "197        215.41  [PG-13]  \n",
       "198          1.98     [PG]  \n",
       "199        155.44  [PG-13]  \n",
       "\n",
       "[200 rows x 7 columns]"
      ]
     },
     "execution_count": 22,
     "metadata": {},
     "output_type": "execute_result"
    }
   ],
   "source": [
    "df"
   ]
  },
  {
   "cell_type": "code",
   "execution_count": 23,
   "id": "2b2c057f",
   "metadata": {},
   "outputs": [
    {
     "data": {
      "text/plain": [
       "Ranking          0\n",
       "Title            0\n",
       "Year             0\n",
       "Runtime          0\n",
       "IMDb             0\n",
       "Box_Office(M)    0\n",
       "Rating           4\n",
       "dtype: int64"
      ]
     },
     "execution_count": 23,
     "metadata": {},
     "output_type": "execute_result"
    }
   ],
   "source": [
    "df.isnull().sum()"
   ]
  },
  {
   "cell_type": "markdown",
   "id": "9d822d65",
   "metadata": {},
   "source": [
    "### Export the dataframe to csv file"
   ]
  },
  {
   "cell_type": "code",
   "execution_count": 24,
   "id": "37af35c9",
   "metadata": {},
   "outputs": [],
   "source": [
    "df.to_csv('Movie IMDbs.csv', index=False)"
   ]
  },
  {
   "cell_type": "markdown",
   "id": "3ef83556",
   "metadata": {},
   "source": [
    "### Explanatory Data Analysis"
   ]
  },
  {
   "cell_type": "code",
   "execution_count": 25,
   "id": "7d78ec73",
   "metadata": {},
   "outputs": [],
   "source": [
    "import matplotlib.pyplot as plt\n",
    "import seaborn as sns"
   ]
  },
  {
   "cell_type": "code",
   "execution_count": 26,
   "id": "12341e3b",
   "metadata": {},
   "outputs": [],
   "source": [
    "df = pd.read_csv('Movie IMDbs.csv')"
   ]
  },
  {
   "cell_type": "code",
   "execution_count": 27,
   "id": "bf6dc166",
   "metadata": {},
   "outputs": [
    {
     "data": {
      "text/html": [
       "<div>\n",
       "<style scoped>\n",
       "    .dataframe tbody tr th:only-of-type {\n",
       "        vertical-align: middle;\n",
       "    }\n",
       "\n",
       "    .dataframe tbody tr th {\n",
       "        vertical-align: top;\n",
       "    }\n",
       "\n",
       "    .dataframe thead th {\n",
       "        text-align: right;\n",
       "    }\n",
       "</style>\n",
       "<table border=\"1\" class=\"dataframe\">\n",
       "  <thead>\n",
       "    <tr style=\"text-align: right;\">\n",
       "      <th></th>\n",
       "      <th>Ranking</th>\n",
       "      <th>Title</th>\n",
       "      <th>Year</th>\n",
       "      <th>Runtime</th>\n",
       "      <th>IMDb</th>\n",
       "      <th>Box_Office(M)</th>\n",
       "      <th>Rating</th>\n",
       "    </tr>\n",
       "  </thead>\n",
       "  <tbody>\n",
       "    <tr>\n",
       "      <th>0</th>\n",
       "      <td>1</td>\n",
       "      <td>Avatar</td>\n",
       "      <td>2009</td>\n",
       "      <td>162</td>\n",
       "      <td>7.8</td>\n",
       "      <td>760.51</td>\n",
       "      <td>&lt;span class=\"certificate\"&gt;PG-13&lt;/span&gt;</td>\n",
       "    </tr>\n",
       "    <tr>\n",
       "      <th>1</th>\n",
       "      <td>2</td>\n",
       "      <td>Avengers: Endgame</td>\n",
       "      <td>2019</td>\n",
       "      <td>181</td>\n",
       "      <td>8.4</td>\n",
       "      <td>858.37</td>\n",
       "      <td>&lt;span class=\"certificate\"&gt;PG-13&lt;/span&gt;</td>\n",
       "    </tr>\n",
       "    <tr>\n",
       "      <th>2</th>\n",
       "      <td>3</td>\n",
       "      <td>Titanic</td>\n",
       "      <td>1997</td>\n",
       "      <td>194</td>\n",
       "      <td>7.9</td>\n",
       "      <td>659.33</td>\n",
       "      <td>&lt;span class=\"certificate\"&gt;PG-13&lt;/span&gt;</td>\n",
       "    </tr>\n",
       "    <tr>\n",
       "      <th>3</th>\n",
       "      <td>4</td>\n",
       "      <td>Star Wars: Episode VII - The Force Awakens</td>\n",
       "      <td>2015</td>\n",
       "      <td>138</td>\n",
       "      <td>7.8</td>\n",
       "      <td>936.66</td>\n",
       "      <td>&lt;span class=\"certificate\"&gt;PG-13&lt;/span&gt;</td>\n",
       "    </tr>\n",
       "    <tr>\n",
       "      <th>4</th>\n",
       "      <td>5</td>\n",
       "      <td>Avengers: Infinity War</td>\n",
       "      <td>2018</td>\n",
       "      <td>149</td>\n",
       "      <td>8.4</td>\n",
       "      <td>678.82</td>\n",
       "      <td>&lt;span class=\"certificate\"&gt;PG-13&lt;/span&gt;</td>\n",
       "    </tr>\n",
       "    <tr>\n",
       "      <th>...</th>\n",
       "      <td>...</td>\n",
       "      <td>...</td>\n",
       "      <td>...</td>\n",
       "      <td>...</td>\n",
       "      <td>...</td>\n",
       "      <td>...</td>\n",
       "      <td>...</td>\n",
       "    </tr>\n",
       "    <tr>\n",
       "      <th>195</th>\n",
       "      <td>196</td>\n",
       "      <td>Ted</td>\n",
       "      <td>2012</td>\n",
       "      <td>106</td>\n",
       "      <td>6.9</td>\n",
       "      <td>218.82</td>\n",
       "      <td>&lt;span class=\"certificate\"&gt;PG-13&lt;/span&gt;</td>\n",
       "    </tr>\n",
       "    <tr>\n",
       "      <th>196</th>\n",
       "      <td>197</td>\n",
       "      <td>American Sniper</td>\n",
       "      <td>2014</td>\n",
       "      <td>133</td>\n",
       "      <td>7.3</td>\n",
       "      <td>350.13</td>\n",
       "      <td>&lt;span class=\"certificate\"&gt;PG&lt;/span&gt;</td>\n",
       "    </tr>\n",
       "    <tr>\n",
       "      <th>197</th>\n",
       "      <td>198</td>\n",
       "      <td>Mission: Impossible II</td>\n",
       "      <td>2000</td>\n",
       "      <td>123</td>\n",
       "      <td>6.1</td>\n",
       "      <td>215.41</td>\n",
       "      <td>&lt;span class=\"certificate\"&gt;PG-13&lt;/span&gt;</td>\n",
       "    </tr>\n",
       "    <tr>\n",
       "      <th>198</th>\n",
       "      <td>199</td>\n",
       "      <td>Detective Chinatown 2</td>\n",
       "      <td>2018</td>\n",
       "      <td>121</td>\n",
       "      <td>6.1</td>\n",
       "      <td>1.98</td>\n",
       "      <td>&lt;span class=\"certificate\"&gt;PG&lt;/span&gt;</td>\n",
       "    </tr>\n",
       "    <tr>\n",
       "      <th>199</th>\n",
       "      <td>200</td>\n",
       "      <td>X-Men: Apocalypse</td>\n",
       "      <td>2016</td>\n",
       "      <td>144</td>\n",
       "      <td>6.9</td>\n",
       "      <td>155.44</td>\n",
       "      <td>&lt;span class=\"certificate\"&gt;PG-13&lt;/span&gt;</td>\n",
       "    </tr>\n",
       "  </tbody>\n",
       "</table>\n",
       "<p>200 rows × 7 columns</p>\n",
       "</div>"
      ],
      "text/plain": [
       "     Ranking                                       Title  Year  Runtime  IMDb  \\\n",
       "0          1                                      Avatar  2009      162   7.8   \n",
       "1          2                           Avengers: Endgame  2019      181   8.4   \n",
       "2          3                                     Titanic  1997      194   7.9   \n",
       "3          4  Star Wars: Episode VII - The Force Awakens  2015      138   7.8   \n",
       "4          5                      Avengers: Infinity War  2018      149   8.4   \n",
       "..       ...                                         ...   ...      ...   ...   \n",
       "195      196                                         Ted  2012      106   6.9   \n",
       "196      197                             American Sniper  2014      133   7.3   \n",
       "197      198                      Mission: Impossible II  2000      123   6.1   \n",
       "198      199                       Detective Chinatown 2  2018      121   6.1   \n",
       "199      200                           X-Men: Apocalypse  2016      144   6.9   \n",
       "\n",
       "     Box_Office(M)                                  Rating  \n",
       "0           760.51  <span class=\"certificate\">PG-13</span>  \n",
       "1           858.37  <span class=\"certificate\">PG-13</span>  \n",
       "2           659.33  <span class=\"certificate\">PG-13</span>  \n",
       "3           936.66  <span class=\"certificate\">PG-13</span>  \n",
       "4           678.82  <span class=\"certificate\">PG-13</span>  \n",
       "..             ...                                     ...  \n",
       "195         218.82  <span class=\"certificate\">PG-13</span>  \n",
       "196         350.13     <span class=\"certificate\">PG</span>  \n",
       "197         215.41  <span class=\"certificate\">PG-13</span>  \n",
       "198           1.98     <span class=\"certificate\">PG</span>  \n",
       "199         155.44  <span class=\"certificate\">PG-13</span>  \n",
       "\n",
       "[200 rows x 7 columns]"
      ]
     },
     "execution_count": 27,
     "metadata": {},
     "output_type": "execute_result"
    }
   ],
   "source": [
    "df"
   ]
  },
  {
   "cell_type": "code",
   "execution_count": 28,
   "id": "9c24bacc",
   "metadata": {},
   "outputs": [],
   "source": [
    "df.dropna(subset=['Box_Office(M)','Rating'], inplace=True)"
   ]
  },
  {
   "cell_type": "code",
   "execution_count": 29,
   "id": "158f7537",
   "metadata": {},
   "outputs": [],
   "source": [
    "df['Rating'] = df['Rating'].str.partition('>')[2].str.partition('<')[0]"
   ]
  },
  {
   "cell_type": "code",
   "execution_count": 30,
   "id": "3debbcd1",
   "metadata": {},
   "outputs": [],
   "source": [
    "df = df.reset_index(drop=True)"
   ]
  },
  {
   "cell_type": "code",
   "execution_count": 31,
   "id": "656d3c8c",
   "metadata": {},
   "outputs": [
    {
     "data": {
      "text/html": [
       "<div>\n",
       "<style scoped>\n",
       "    .dataframe tbody tr th:only-of-type {\n",
       "        vertical-align: middle;\n",
       "    }\n",
       "\n",
       "    .dataframe tbody tr th {\n",
       "        vertical-align: top;\n",
       "    }\n",
       "\n",
       "    .dataframe thead th {\n",
       "        text-align: right;\n",
       "    }\n",
       "</style>\n",
       "<table border=\"1\" class=\"dataframe\">\n",
       "  <thead>\n",
       "    <tr style=\"text-align: right;\">\n",
       "      <th></th>\n",
       "      <th>Ranking</th>\n",
       "      <th>Title</th>\n",
       "      <th>Year</th>\n",
       "      <th>Runtime</th>\n",
       "      <th>IMDb</th>\n",
       "      <th>Box_Office(M)</th>\n",
       "      <th>Rating</th>\n",
       "    </tr>\n",
       "  </thead>\n",
       "  <tbody>\n",
       "    <tr>\n",
       "      <th>0</th>\n",
       "      <td>1</td>\n",
       "      <td>Avatar</td>\n",
       "      <td>2009</td>\n",
       "      <td>162</td>\n",
       "      <td>7.8</td>\n",
       "      <td>760.51</td>\n",
       "      <td>PG-13</td>\n",
       "    </tr>\n",
       "    <tr>\n",
       "      <th>1</th>\n",
       "      <td>2</td>\n",
       "      <td>Avengers: Endgame</td>\n",
       "      <td>2019</td>\n",
       "      <td>181</td>\n",
       "      <td>8.4</td>\n",
       "      <td>858.37</td>\n",
       "      <td>PG-13</td>\n",
       "    </tr>\n",
       "    <tr>\n",
       "      <th>2</th>\n",
       "      <td>3</td>\n",
       "      <td>Titanic</td>\n",
       "      <td>1997</td>\n",
       "      <td>194</td>\n",
       "      <td>7.9</td>\n",
       "      <td>659.33</td>\n",
       "      <td>PG-13</td>\n",
       "    </tr>\n",
       "    <tr>\n",
       "      <th>3</th>\n",
       "      <td>4</td>\n",
       "      <td>Star Wars: Episode VII - The Force Awakens</td>\n",
       "      <td>2015</td>\n",
       "      <td>138</td>\n",
       "      <td>7.8</td>\n",
       "      <td>936.66</td>\n",
       "      <td>PG-13</td>\n",
       "    </tr>\n",
       "    <tr>\n",
       "      <th>4</th>\n",
       "      <td>5</td>\n",
       "      <td>Avengers: Infinity War</td>\n",
       "      <td>2018</td>\n",
       "      <td>149</td>\n",
       "      <td>8.4</td>\n",
       "      <td>678.82</td>\n",
       "      <td>PG-13</td>\n",
       "    </tr>\n",
       "    <tr>\n",
       "      <th>...</th>\n",
       "      <td>...</td>\n",
       "      <td>...</td>\n",
       "      <td>...</td>\n",
       "      <td>...</td>\n",
       "      <td>...</td>\n",
       "      <td>...</td>\n",
       "      <td>...</td>\n",
       "    </tr>\n",
       "    <tr>\n",
       "      <th>183</th>\n",
       "      <td>196</td>\n",
       "      <td>Ted</td>\n",
       "      <td>2012</td>\n",
       "      <td>106</td>\n",
       "      <td>6.9</td>\n",
       "      <td>218.82</td>\n",
       "      <td>PG-13</td>\n",
       "    </tr>\n",
       "    <tr>\n",
       "      <th>184</th>\n",
       "      <td>197</td>\n",
       "      <td>American Sniper</td>\n",
       "      <td>2014</td>\n",
       "      <td>133</td>\n",
       "      <td>7.3</td>\n",
       "      <td>350.13</td>\n",
       "      <td>PG</td>\n",
       "    </tr>\n",
       "    <tr>\n",
       "      <th>185</th>\n",
       "      <td>198</td>\n",
       "      <td>Mission: Impossible II</td>\n",
       "      <td>2000</td>\n",
       "      <td>123</td>\n",
       "      <td>6.1</td>\n",
       "      <td>215.41</td>\n",
       "      <td>PG-13</td>\n",
       "    </tr>\n",
       "    <tr>\n",
       "      <th>186</th>\n",
       "      <td>199</td>\n",
       "      <td>Detective Chinatown 2</td>\n",
       "      <td>2018</td>\n",
       "      <td>121</td>\n",
       "      <td>6.1</td>\n",
       "      <td>1.98</td>\n",
       "      <td>PG</td>\n",
       "    </tr>\n",
       "    <tr>\n",
       "      <th>187</th>\n",
       "      <td>200</td>\n",
       "      <td>X-Men: Apocalypse</td>\n",
       "      <td>2016</td>\n",
       "      <td>144</td>\n",
       "      <td>6.9</td>\n",
       "      <td>155.44</td>\n",
       "      <td>PG-13</td>\n",
       "    </tr>\n",
       "  </tbody>\n",
       "</table>\n",
       "<p>188 rows × 7 columns</p>\n",
       "</div>"
      ],
      "text/plain": [
       "     Ranking                                       Title  Year  Runtime  IMDb  \\\n",
       "0          1                                      Avatar  2009      162   7.8   \n",
       "1          2                           Avengers: Endgame  2019      181   8.4   \n",
       "2          3                                     Titanic  1997      194   7.9   \n",
       "3          4  Star Wars: Episode VII - The Force Awakens  2015      138   7.8   \n",
       "4          5                      Avengers: Infinity War  2018      149   8.4   \n",
       "..       ...                                         ...   ...      ...   ...   \n",
       "183      196                                         Ted  2012      106   6.9   \n",
       "184      197                             American Sniper  2014      133   7.3   \n",
       "185      198                      Mission: Impossible II  2000      123   6.1   \n",
       "186      199                       Detective Chinatown 2  2018      121   6.1   \n",
       "187      200                           X-Men: Apocalypse  2016      144   6.9   \n",
       "\n",
       "     Box_Office(M) Rating  \n",
       "0           760.51  PG-13  \n",
       "1           858.37  PG-13  \n",
       "2           659.33  PG-13  \n",
       "3           936.66  PG-13  \n",
       "4           678.82  PG-13  \n",
       "..             ...    ...  \n",
       "183         218.82  PG-13  \n",
       "184         350.13     PG  \n",
       "185         215.41  PG-13  \n",
       "186           1.98     PG  \n",
       "187         155.44  PG-13  \n",
       "\n",
       "[188 rows x 7 columns]"
      ]
     },
     "execution_count": 31,
     "metadata": {},
     "output_type": "execute_result"
    }
   ],
   "source": [
    "df"
   ]
  },
  {
   "cell_type": "code",
   "execution_count": 32,
   "id": "6cb55eef",
   "metadata": {},
   "outputs": [],
   "source": [
    "sns.set_style(\"darkgrid\")"
   ]
  },
  {
   "cell_type": "code",
   "execution_count": 33,
   "id": "b708c16c",
   "metadata": {},
   "outputs": [
    {
     "data": {
      "text/plain": [
       "Text(0.5, 1.0, 'Regression Line')"
      ]
     },
     "execution_count": 33,
     "metadata": {},
     "output_type": "execute_result"
    },
    {
     "data": {
      "image/png": "[encoded data removed]",
      "text/plain": [
       "<Figure size 360x360 with 1 Axes>"
      ]
     },
     "metadata": {},
     "output_type": "display_data"
    }
   ],
   "source": [
    "re = sns.lmplot(data=df, x='IMDb', y='Box_Office(M)')\n",
    "plt.title('Regression Line')"
   ]
  },
  {
   "cell_type": "code",
   "execution_count": 34,
   "id": "46ade396",
   "metadata": {},
   "outputs": [
    {
     "data": {
      "text/plain": [
       "Text(0.5, 1.0, 'IMDb trend: 1970 - 2022')"
      ]
     },
     "execution_count": 34,
     "metadata": {},
     "output_type": "execute_result"
    },
    {
     "data": {
      "image/png": "[encoded data removed]",
      "text/plain": [
       "<Figure size 432x288 with 1 Axes>"
      ]
     },
     "metadata": {},
     "output_type": "display_data"
    }
   ],
   "source": [
    "sns.lineplot(data=df, x='Year', y='IMDb', dashes=False, marker=\"o\")\n",
    "plt.title('IMDb trend: 1970 - 2022')"
   ]
  },
  {
   "cell_type": "code",
   "execution_count": 35,
   "id": "ac49a511",
   "metadata": {},
   "outputs": [
    {
     "data": {
      "text/plain": [
       "Text(0.5, 1.0, 'IMDbs by Rating')"
      ]
     },
     "execution_count": 35,
     "metadata": {},
     "output_type": "execute_result"
    },
    {
     "data": {
      "image/png": "[encoded data removed]",
      "text/plain": [
       "<Figure size 432x288 with 1 Axes>"
      ]
     },
     "metadata": {},
     "output_type": "display_data"
    }
   ],
   "source": [
    "sns.boxplot(data=df, x='Rating', y='IMDb', boxprops={\"facecolor\": (.4, .6, .8, .5)}, medianprops={\"color\": \"coral\"})\n",
    "plt.title('IMDbs by Rating')"
   ]
  },
  {
   "cell_type": "code",
   "execution_count": 36,
   "id": "e6b15c8c",
   "metadata": {},
   "outputs": [
    {
     "data": {
      "text/plain": [
       "<matplotlib.legend.Legend at 0x1a934341670>"
      ]
     },
     "execution_count": 36,
     "metadata": {},
     "output_type": "execute_result"
    },
    {
     "data": {
      "image/png": "[encoded data removed]",
      "text/plain": [
       "<Figure size 432x288 with 1 Axes>"
      ]
     },
     "metadata": {},
     "output_type": "display_data"
    }
   ],
   "source": [
    "scatter = sns.scatterplot(data=df, x='IMDb', y='Box_Office(M)', hue='Rating', style='Rating')\n",
    "plt.title('Box Office in millions by IMDb')\n",
    "scatter.legend(bbox_to_anchor= (1.03, 1), title=False)"
   ]
  },
  {
   "cell_type": "code",
   "execution_count": 37,
   "id": "60431aa6",
   "metadata": {},
   "outputs": [
    {
     "data": {
      "text/plain": [
       "Text(0.5, 1.0, 'Box Office in millions by Rating')"
      ]
     },
     "execution_count": 37,
     "metadata": {},
     "output_type": "execute_result"
    },
    {
     "data": {
      "image/png": "[encoded data removed]",
      "text/plain": [
       "<Figure size 432x288 with 1 Axes>"
      ]
     },
     "metadata": {},
     "output_type": "display_data"
    }
   ],
   "source": [
    "sns.boxplot(data=df, x='Rating', y='Box_Office(M)', boxprops={\"facecolor\": (.4, .6, .8, .5)}, medianprops={\"color\": \"coral\"})\n",
    "plt.title('Box Office in millions by Rating')"
   ]
  },
  {
   "cell_type": "code",
   "execution_count": 38,
   "id": "e8e44dd8",
   "metadata": {},
   "outputs": [
    {
     "data": {
      "text/plain": [
       "Text(0.5, 1.0, 'Year by Rating')"
      ]
     },
     "execution_count": 38,
     "metadata": {},
     "output_type": "execute_result"
    },
    {
     "data": {
      "image/png": "[encoded data removed]",
      "text/plain": [
       "<Figure size 432x288 with 1 Axes>"
      ]
     },
     "metadata": {},
     "output_type": "display_data"
    }
   ],
   "source": [
    "sns.boxplot(data=df, x='Rating', y='Year', boxprops={\"facecolor\": (.4, .6, .8, .5)}, medianprops={\"color\": \"coral\"})\n",
    "plt.title('Year by Rating')"
   ]
  },
  {
   "cell_type": "code",
   "execution_count": 39,
   "id": "923085bd",
   "metadata": {},
   "outputs": [
    {
     "data": {
      "text/plain": [
       "Text(0.5, 1.0, 'Correlation Matrix')"
      ]
     },
     "execution_count": 39,
     "metadata": {},
     "output_type": "execute_result"
    },
    {
     "data": {
      "image/png": "[encoded data removed]",
      "text/plain": [
       "<Figure size 432x288 with 2 Axes>"
      ]
     },
     "metadata": {},
     "output_type": "display_data"
    }
   ],
   "source": [
    "df1 = df.drop(labels=['Title', 'Rating'], axis=1)\n",
    "sns.heatmap(df.corr(), annot=True, cmap='YlGnBu')\n",
    "plt.title('Correlation Matrix')"
   ]
  },
  {
   "cell_type": "code",
   "execution_count": 57,
   "id": "40e2a663",
   "metadata": {},
   "outputs": [
    {
     "data": {
      "text/plain": [
       "Text(0.5, 1.0, 'Box Office in millions by IMDb')"
      ]
     },
     "execution_count": 57,
     "metadata": {},
     "output_type": "execute_result"
    },
    {
     "data": {
      "image/png": "[encoded data removed]",
      "text/plain": [
       "<Figure size 432x288 with 1 Axes>"
      ]
     },
     "metadata": {},
     "output_type": "display_data"
    }
   ],
   "source": [
    "sns.set_style(\"whitegrid\")\n",
    "scatter = sns.scatterplot(data=df, x='IMDb', y='Box_Office(M)', hue='Rating')\n",
    "plt.title('Box Office in millions by IMDb')"
   ]
  },
  {
   "cell_type": "code",
   "execution_count": null,
   "id": "0e5b5a1e",
   "metadata": {},
   "outputs": [],
   "source": []
  }
 ],
 "metadata": {
  "kernelspec": {
   "display_name": "Python 3 (ipykernel)",
   "language": "python",
   "name": "python3"
  },
  "language_info": {
   "codemirror_mode": {
    "name": "ipython",
    "version": 3
   },
   "file_extension": ".py",
   "mimetype": "text/x-python",
   "name": "python",
   "nbconvert_exporter": "python",
   "pygments_lexer": "ipython3",
   "version": "3.9.12"
  }
 },
 "nbformat": 4,
 "nbformat_minor": 5
}
